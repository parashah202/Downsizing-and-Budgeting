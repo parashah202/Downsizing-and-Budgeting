{
 "cells": [
  {
   "cell_type": "markdown",
   "id": "98bfca3d",
   "metadata": {},
   "source": [
    "# Expenditure Change Behaviour PREDICTION MODEL"
   ]
  },
  {
   "cell_type": "markdown",
   "id": "3a98db1f",
   "metadata": {},
   "source": [
    "# Predicting whether a person is likely to spend less, more or same when there is a sudden change in their income based on the factors like their working status (How many hours they are working), Region(where they live), and Household Income (Which class of income they fall). "
   ]
  },
  {
   "cell_type": "code",
   "execution_count": 1,
   "id": "97be49ce",
   "metadata": {},
   "outputs": [
    {
     "name": "stdout",
     "output_type": "stream",
     "text": [
      "C:\\Users\\dell\\OneDrive - UWE Bristol\\4. Interdiciplinary Group Project\\Assignment\\ML prediction\n"
     ]
    }
   ],
   "source": [
    "# Importing Necessary libraries \n",
    "\n",
    "import numpy as np\n",
    "import pandas as pd\n",
    "\n",
    "import pickle\n",
    "\n",
    "from sklearn.model_selection import train_test_split\n",
    "from sklearn.neighbors import KNeighborsClassifier\n",
    "from sklearn.utils import resample\n",
    "from sklearn.naive_bayes import GaussianNB\n",
    "from sklearn.metrics import ConfusionMatrixDisplay, accuracy_score, f1_score, precision_score, recall_score, classification_report, confusion_matrix\n",
    "#from sklearn.linear_model import Ridge\n",
    "from sklearn.model_selection import cross_val_score\n",
    "from sklearn.tree import DecisionTreeClassifier\n",
    "\n",
    "\n",
    "import seaborn as sn\n",
    "\n",
    "import matplotlib.pyplot as plt\n",
    "%matplotlib inline\n",
    "\n",
    "# Changing Working Directory\n",
    "%cd C:\\Users\\dell\\OneDrive - UWE Bristol\\4. Interdiciplinary Group Project\\Assignment\\ML prediction"
   ]
  },
  {
   "cell_type": "code",
   "execution_count": 2,
   "id": "67c6834e",
   "metadata": {},
   "outputs": [
    {
     "data": {
      "text/html": [
       "<div>\n",
       "<style scoped>\n",
       "    .dataframe tbody tr th:only-of-type {\n",
       "        vertical-align: middle;\n",
       "    }\n",
       "\n",
       "    .dataframe tbody tr th {\n",
       "        vertical-align: top;\n",
       "    }\n",
       "\n",
       "    .dataframe thead th {\n",
       "        text-align: right;\n",
       "    }\n",
       "</style>\n",
       "<table border=\"1\" class=\"dataframe\">\n",
       "  <thead>\n",
       "    <tr style=\"text-align: right;\">\n",
       "      <th></th>\n",
       "      <th>identifier</th>\n",
       "      <th>age</th>\n",
       "      <th>WorkingStatus</th>\n",
       "      <th>qincome(household income)</th>\n",
       "      <th>Region (NEW)</th>\n",
       "      <th>Region</th>\n",
       "      <th>o12q5(annual spending changes)</th>\n",
       "    </tr>\n",
       "  </thead>\n",
       "  <tbody>\n",
       "    <tr>\n",
       "      <th>0</th>\n",
       "      <td>22007620</td>\n",
       "      <td>23</td>\n",
       "      <td>1</td>\n",
       "      <td>10</td>\n",
       "      <td>NaN</td>\n",
       "      <td>NaN</td>\n",
       "      <td>NaN</td>\n",
       "    </tr>\n",
       "    <tr>\n",
       "      <th>1</th>\n",
       "      <td>22238715</td>\n",
       "      <td>22</td>\n",
       "      <td>1</td>\n",
       "      <td>9</td>\n",
       "      <td>NaN</td>\n",
       "      <td>NaN</td>\n",
       "      <td>NaN</td>\n",
       "    </tr>\n",
       "    <tr>\n",
       "      <th>2</th>\n",
       "      <td>20404925</td>\n",
       "      <td>59</td>\n",
       "      <td>8</td>\n",
       "      <td>12</td>\n",
       "      <td>NaN</td>\n",
       "      <td>NaN</td>\n",
       "      <td>NaN</td>\n",
       "    </tr>\n",
       "    <tr>\n",
       "      <th>3</th>\n",
       "      <td>21839916</td>\n",
       "      <td>21</td>\n",
       "      <td>7</td>\n",
       "      <td>1</td>\n",
       "      <td>NaN</td>\n",
       "      <td>NaN</td>\n",
       "      <td>NaN</td>\n",
       "    </tr>\n",
       "    <tr>\n",
       "      <th>4</th>\n",
       "      <td>23091998</td>\n",
       "      <td>24</td>\n",
       "      <td>1</td>\n",
       "      <td>10</td>\n",
       "      <td>NaN</td>\n",
       "      <td>NaN</td>\n",
       "      <td>NaN</td>\n",
       "    </tr>\n",
       "    <tr>\n",
       "      <th>...</th>\n",
       "      <td>...</td>\n",
       "      <td>...</td>\n",
       "      <td>...</td>\n",
       "      <td>...</td>\n",
       "      <td>...</td>\n",
       "      <td>...</td>\n",
       "      <td>...</td>\n",
       "    </tr>\n",
       "    <tr>\n",
       "      <th>53119</th>\n",
       "      <td>1491543354</td>\n",
       "      <td>48</td>\n",
       "      <td>1</td>\n",
       "      <td>0</td>\n",
       "      <td>Wales</td>\n",
       "      <td>10.0</td>\n",
       "      <td>NaN</td>\n",
       "    </tr>\n",
       "    <tr>\n",
       "      <th>53120</th>\n",
       "      <td>1803085531</td>\n",
       "      <td>61</td>\n",
       "      <td>9</td>\n",
       "      <td>0</td>\n",
       "      <td>Scotland</td>\n",
       "      <td>11.0</td>\n",
       "      <td>NaN</td>\n",
       "    </tr>\n",
       "    <tr>\n",
       "      <th>53121</th>\n",
       "      <td>1491736235</td>\n",
       "      <td>40</td>\n",
       "      <td>1</td>\n",
       "      <td>0</td>\n",
       "      <td>South West</td>\n",
       "      <td>3.0</td>\n",
       "      <td>NaN</td>\n",
       "    </tr>\n",
       "    <tr>\n",
       "      <th>53122</th>\n",
       "      <td>1490608952</td>\n",
       "      <td>43</td>\n",
       "      <td>9</td>\n",
       "      <td>0</td>\n",
       "      <td>Scotland</td>\n",
       "      <td>11.0</td>\n",
       "      <td>NaN</td>\n",
       "    </tr>\n",
       "    <tr>\n",
       "      <th>53123</th>\n",
       "      <td>1720492158</td>\n",
       "      <td>31</td>\n",
       "      <td>1</td>\n",
       "      <td>0</td>\n",
       "      <td>London</td>\n",
       "      <td>1.0</td>\n",
       "      <td>NaN</td>\n",
       "    </tr>\n",
       "  </tbody>\n",
       "</table>\n",
       "<p>53124 rows × 7 columns</p>\n",
       "</div>"
      ],
      "text/plain": [
       "       identifier  age  WorkingStatus  qincome(household income) Region (NEW)  \\\n",
       "0        22007620   23              1                         10          NaN   \n",
       "1        22238715   22              1                          9          NaN   \n",
       "2        20404925   59              8                         12          NaN   \n",
       "3        21839916   21              7                          1          NaN   \n",
       "4        23091998   24              1                         10          NaN   \n",
       "...           ...  ...            ...                        ...          ...   \n",
       "53119  1491543354   48              1                          0        Wales   \n",
       "53120  1803085531   61              9                          0     Scotland   \n",
       "53121  1491736235   40              1                          0   South West   \n",
       "53122  1490608952   43              9                          0     Scotland   \n",
       "53123  1720492158   31              1                          0       London   \n",
       "\n",
       "       Region  o12q5(annual spending changes)  \n",
       "0         NaN                             NaN  \n",
       "1         NaN                             NaN  \n",
       "2         NaN                             NaN  \n",
       "3         NaN                             NaN  \n",
       "4         NaN                             NaN  \n",
       "...       ...                             ...  \n",
       "53119    10.0                             NaN  \n",
       "53120    11.0                             NaN  \n",
       "53121     3.0                             NaN  \n",
       "53122    11.0                             NaN  \n",
       "53123     1.0                             NaN  \n",
       "\n",
       "[53124 rows x 7 columns]"
      ]
     },
     "execution_count": 2,
     "metadata": {},
     "output_type": "execute_result"
    }
   ],
   "source": [
    "# Opening the file generated with specific columns needed for creating model\n",
    "\n",
    "boe_data = pd.read_csv('BOE_Prediction.csv')\n",
    "boe_data\n"
   ]
  },
  {
   "cell_type": "markdown",
   "id": "20a5019d",
   "metadata": {},
   "source": [
    "# Data Cleaning"
   ]
  },
  {
   "cell_type": "code",
   "execution_count": 3,
   "id": "317b1d4a",
   "metadata": {},
   "outputs": [],
   "source": [
    "# Dropping Unncessary columns\n",
    "\n",
    "boe_data.drop(['identifier'],1,inplace=True)\n",
    "boe_data.drop(['Region (NEW)'],1,inplace=True)\n",
    "boe_data.drop(['age'],1,inplace=True) # Overfiting the model\n"
   ]
  },
  {
   "cell_type": "code",
   "execution_count": 4,
   "id": "4b73d2b5",
   "metadata": {},
   "outputs": [
    {
     "data": {
      "text/html": [
       "<div>\n",
       "<style scoped>\n",
       "    .dataframe tbody tr th:only-of-type {\n",
       "        vertical-align: middle;\n",
       "    }\n",
       "\n",
       "    .dataframe tbody tr th {\n",
       "        vertical-align: top;\n",
       "    }\n",
       "\n",
       "    .dataframe thead th {\n",
       "        text-align: right;\n",
       "    }\n",
       "</style>\n",
       "<table border=\"1\" class=\"dataframe\">\n",
       "  <thead>\n",
       "    <tr style=\"text-align: right;\">\n",
       "      <th></th>\n",
       "      <th>WorkingStatus</th>\n",
       "      <th>qincome(household income)</th>\n",
       "      <th>Region</th>\n",
       "      <th>o12q5(annual spending changes)</th>\n",
       "    </tr>\n",
       "  </thead>\n",
       "  <tbody>\n",
       "    <tr>\n",
       "      <th>0</th>\n",
       "      <td>1</td>\n",
       "      <td>10</td>\n",
       "      <td>-99999.0</td>\n",
       "      <td>-99999.0</td>\n",
       "    </tr>\n",
       "    <tr>\n",
       "      <th>1</th>\n",
       "      <td>1</td>\n",
       "      <td>9</td>\n",
       "      <td>-99999.0</td>\n",
       "      <td>-99999.0</td>\n",
       "    </tr>\n",
       "    <tr>\n",
       "      <th>2</th>\n",
       "      <td>8</td>\n",
       "      <td>12</td>\n",
       "      <td>-99999.0</td>\n",
       "      <td>-99999.0</td>\n",
       "    </tr>\n",
       "    <tr>\n",
       "      <th>3</th>\n",
       "      <td>7</td>\n",
       "      <td>1</td>\n",
       "      <td>-99999.0</td>\n",
       "      <td>-99999.0</td>\n",
       "    </tr>\n",
       "    <tr>\n",
       "      <th>4</th>\n",
       "      <td>1</td>\n",
       "      <td>10</td>\n",
       "      <td>-99999.0</td>\n",
       "      <td>-99999.0</td>\n",
       "    </tr>\n",
       "    <tr>\n",
       "      <th>...</th>\n",
       "      <td>...</td>\n",
       "      <td>...</td>\n",
       "      <td>...</td>\n",
       "      <td>...</td>\n",
       "    </tr>\n",
       "    <tr>\n",
       "      <th>53119</th>\n",
       "      <td>1</td>\n",
       "      <td>0</td>\n",
       "      <td>10.0</td>\n",
       "      <td>-99999.0</td>\n",
       "    </tr>\n",
       "    <tr>\n",
       "      <th>53120</th>\n",
       "      <td>9</td>\n",
       "      <td>0</td>\n",
       "      <td>11.0</td>\n",
       "      <td>-99999.0</td>\n",
       "    </tr>\n",
       "    <tr>\n",
       "      <th>53121</th>\n",
       "      <td>1</td>\n",
       "      <td>0</td>\n",
       "      <td>3.0</td>\n",
       "      <td>-99999.0</td>\n",
       "    </tr>\n",
       "    <tr>\n",
       "      <th>53122</th>\n",
       "      <td>9</td>\n",
       "      <td>0</td>\n",
       "      <td>11.0</td>\n",
       "      <td>-99999.0</td>\n",
       "    </tr>\n",
       "    <tr>\n",
       "      <th>53123</th>\n",
       "      <td>1</td>\n",
       "      <td>0</td>\n",
       "      <td>1.0</td>\n",
       "      <td>-99999.0</td>\n",
       "    </tr>\n",
       "  </tbody>\n",
       "</table>\n",
       "<p>53124 rows × 4 columns</p>\n",
       "</div>"
      ],
      "text/plain": [
       "       WorkingStatus  qincome(household income)   Region  \\\n",
       "0                  1                         10 -99999.0   \n",
       "1                  1                          9 -99999.0   \n",
       "2                  8                         12 -99999.0   \n",
       "3                  7                          1 -99999.0   \n",
       "4                  1                         10 -99999.0   \n",
       "...              ...                        ...      ...   \n",
       "53119              1                          0     10.0   \n",
       "53120              9                          0     11.0   \n",
       "53121              1                          0      3.0   \n",
       "53122              9                          0     11.0   \n",
       "53123              1                          0      1.0   \n",
       "\n",
       "       o12q5(annual spending changes)  \n",
       "0                            -99999.0  \n",
       "1                            -99999.0  \n",
       "2                            -99999.0  \n",
       "3                            -99999.0  \n",
       "4                            -99999.0  \n",
       "...                               ...  \n",
       "53119                        -99999.0  \n",
       "53120                        -99999.0  \n",
       "53121                        -99999.0  \n",
       "53122                        -99999.0  \n",
       "53123                        -99999.0  \n",
       "\n",
       "[53124 rows x 4 columns]"
      ]
     },
     "execution_count": 4,
     "metadata": {},
     "output_type": "execute_result"
    }
   ],
   "source": [
    "# Replacing Null values. \n",
    "\n",
    "cleaned = boe_data.fillna(-99999)\n",
    "cleaned\n",
    "\n",
    "# (I tried to build the model on this. But due to imbalance in test and train samples it is not performing well)"
   ]
  },
  {
   "cell_type": "code",
   "execution_count": 5,
   "id": "a4a50510",
   "metadata": {},
   "outputs": [],
   "source": [
    "# Renaming columns with reevant names and easy to understand\n",
    "\n",
    "boe_data.rename(columns = {'qincome(household income)':'household income', 'o12q5(annual spending changes)':'change in spending'}, inplace = True)"
   ]
  },
  {
   "cell_type": "code",
   "execution_count": 6,
   "id": "244287e7",
   "metadata": {},
   "outputs": [
    {
     "data": {
      "text/html": [
       "<div>\n",
       "<style scoped>\n",
       "    .dataframe tbody tr th:only-of-type {\n",
       "        vertical-align: middle;\n",
       "    }\n",
       "\n",
       "    .dataframe tbody tr th {\n",
       "        vertical-align: top;\n",
       "    }\n",
       "\n",
       "    .dataframe thead th {\n",
       "        text-align: right;\n",
       "    }\n",
       "</style>\n",
       "<table border=\"1\" class=\"dataframe\">\n",
       "  <thead>\n",
       "    <tr style=\"text-align: right;\">\n",
       "      <th></th>\n",
       "      <th>WorkingStatus</th>\n",
       "      <th>household income</th>\n",
       "      <th>Region</th>\n",
       "      <th>change in spending</th>\n",
       "    </tr>\n",
       "  </thead>\n",
       "  <tbody>\n",
       "    <tr>\n",
       "      <th>4999</th>\n",
       "      <td>2</td>\n",
       "      <td>10</td>\n",
       "      <td>8.0</td>\n",
       "      <td>3.0</td>\n",
       "    </tr>\n",
       "    <tr>\n",
       "      <th>5000</th>\n",
       "      <td>2</td>\n",
       "      <td>10</td>\n",
       "      <td>10.0</td>\n",
       "      <td>1.0</td>\n",
       "    </tr>\n",
       "    <tr>\n",
       "      <th>5007</th>\n",
       "      <td>1</td>\n",
       "      <td>12</td>\n",
       "      <td>8.0</td>\n",
       "      <td>2.0</td>\n",
       "    </tr>\n",
       "    <tr>\n",
       "      <th>5008</th>\n",
       "      <td>1</td>\n",
       "      <td>11</td>\n",
       "      <td>12.0</td>\n",
       "      <td>2.0</td>\n",
       "    </tr>\n",
       "    <tr>\n",
       "      <th>5010</th>\n",
       "      <td>8</td>\n",
       "      <td>11</td>\n",
       "      <td>9.0</td>\n",
       "      <td>3.0</td>\n",
       "    </tr>\n",
       "    <tr>\n",
       "      <th>...</th>\n",
       "      <td>...</td>\n",
       "      <td>...</td>\n",
       "      <td>...</td>\n",
       "      <td>...</td>\n",
       "    </tr>\n",
       "    <tr>\n",
       "      <th>16988</th>\n",
       "      <td>8</td>\n",
       "      <td>9</td>\n",
       "      <td>10.0</td>\n",
       "      <td>2.0</td>\n",
       "    </tr>\n",
       "    <tr>\n",
       "      <th>16994</th>\n",
       "      <td>8</td>\n",
       "      <td>96</td>\n",
       "      <td>2.0</td>\n",
       "      <td>2.0</td>\n",
       "    </tr>\n",
       "    <tr>\n",
       "      <th>16997</th>\n",
       "      <td>1</td>\n",
       "      <td>14</td>\n",
       "      <td>11.0</td>\n",
       "      <td>1.0</td>\n",
       "    </tr>\n",
       "    <tr>\n",
       "      <th>17000</th>\n",
       "      <td>2</td>\n",
       "      <td>6</td>\n",
       "      <td>6.0</td>\n",
       "      <td>3.0</td>\n",
       "    </tr>\n",
       "    <tr>\n",
       "      <th>17002</th>\n",
       "      <td>1</td>\n",
       "      <td>12</td>\n",
       "      <td>3.0</td>\n",
       "      <td>1.0</td>\n",
       "    </tr>\n",
       "  </tbody>\n",
       "</table>\n",
       "<p>3732 rows × 4 columns</p>\n",
       "</div>"
      ],
      "text/plain": [
       "       WorkingStatus  household income  Region  change in spending\n",
       "4999               2                10     8.0                 3.0\n",
       "5000               2                10    10.0                 1.0\n",
       "5007               1                12     8.0                 2.0\n",
       "5008               1                11    12.0                 2.0\n",
       "5010               8                11     9.0                 3.0\n",
       "...              ...               ...     ...                 ...\n",
       "16988              8                 9    10.0                 2.0\n",
       "16994              8                96     2.0                 2.0\n",
       "16997              1                14    11.0                 1.0\n",
       "17000              2                 6     6.0                 3.0\n",
       "17002              1                12     3.0                 1.0\n",
       "\n",
       "[3732 rows x 4 columns]"
      ]
     },
     "execution_count": 6,
     "metadata": {},
     "output_type": "execute_result"
    }
   ],
   "source": [
    "# Removing the null values \n",
    "\n",
    "no_null = boe_data.dropna(axis=0)\n",
    "no_null\n"
   ]
  },
  {
   "cell_type": "code",
   "execution_count": 7,
   "id": "38ed5786",
   "metadata": {},
   "outputs": [
    {
     "name": "stdout",
     "output_type": "stream",
     "text": [
      "<class 'pandas.core.frame.DataFrame'>\n",
      "Int64Index: 3732 entries, 4999 to 17002\n",
      "Data columns (total 4 columns):\n",
      " #   Column              Non-Null Count  Dtype  \n",
      "---  ------              --------------  -----  \n",
      " 0   WorkingStatus       3732 non-null   int64  \n",
      " 1   household income    3732 non-null   int64  \n",
      " 2   Region              3732 non-null   float64\n",
      " 3   change in spending  3732 non-null   float64\n",
      "dtypes: float64(2), int64(2)\n",
      "memory usage: 145.8 KB\n"
     ]
    },
    {
     "data": {
      "text/plain": [
       "((3732, 4), None)"
      ]
     },
     "execution_count": 7,
     "metadata": {},
     "output_type": "execute_result"
    }
   ],
   "source": [
    "no_null.shape, no_null.info()"
   ]
  },
  {
   "cell_type": "markdown",
   "id": "b3519ba0",
   "metadata": {},
   "source": [
    "# Balancing the Data"
   ]
  },
  {
   "cell_type": "code",
   "execution_count": 8,
   "id": "be756eb6",
   "metadata": {},
   "outputs": [
    {
     "data": {
      "text/plain": [
       "array([[<AxesSubplot:title={'center':'WorkingStatus'}>,\n",
       "        <AxesSubplot:title={'center':'household income'}>],\n",
       "       [<AxesSubplot:title={'center':'Region'}>,\n",
       "        <AxesSubplot:title={'center':'change in spending'}>]],\n",
       "      dtype=object)"
      ]
     },
     "execution_count": 8,
     "metadata": {},
     "output_type": "execute_result"
    },
    {
     "data": {
      "image/png": "[encoded data removed]",
      "text/plain": [
       "<Figure size 720x720 with 4 Axes>"
      ]
     },
     "metadata": {
      "needs_background": "light"
     },
     "output_type": "display_data"
    }
   ],
   "source": [
    "# Plotting Histogram to check the imbalance in data set.\n",
    "\n",
    "\n",
    "no_null.hist(bins=10, figsize=(10,10))"
   ]
  },
  {
   "cell_type": "code",
   "execution_count": 9,
   "id": "7a175e3d",
   "metadata": {},
   "outputs": [
    {
     "data": {
      "text/plain": [
       "3.0    1888\n",
       "2.0    1431\n",
       "1.0     413\n",
       "Name: change in spending, dtype: int64"
      ]
     },
     "execution_count": 9,
     "metadata": {},
     "output_type": "execute_result"
    }
   ],
   "source": [
    "# Counting the Values of categories for further balancing.\n",
    "\n",
    "no_null['change in spending'].value_counts()"
   ]
  },
  {
   "cell_type": "code",
   "execution_count": 10,
   "id": "317f72bc",
   "metadata": {},
   "outputs": [
    {
     "data": {
      "image/png": "[encoded data removed]",
      "text/plain": [
       "<Figure size 432x288 with 1 Axes>"
      ]
     },
     "metadata": {
      "needs_background": "light"
     },
     "output_type": "display_data"
    }
   ],
   "source": [
    "# Highlighting the imbalanced in response variable\n",
    "\n",
    "highlight = sn.countplot(x=no_null['change in spending'])\n",
    "highlight.set_xticklabels(['increased','same','Decreased'])\n",
    "highlight.set_title([\"Survey respondents answers for change in spending\"])\n",
    "plt.show()"
   ]
  },
  {
   "cell_type": "code",
   "execution_count": 11,
   "id": "16f61fda",
   "metadata": {},
   "outputs": [
    {
     "data": {
      "text/html": [
       "<div>\n",
       "<style scoped>\n",
       "    .dataframe tbody tr th:only-of-type {\n",
       "        vertical-align: middle;\n",
       "    }\n",
       "\n",
       "    .dataframe tbody tr th {\n",
       "        vertical-align: top;\n",
       "    }\n",
       "\n",
       "    .dataframe thead th {\n",
       "        text-align: right;\n",
       "    }\n",
       "</style>\n",
       "<table border=\"1\" class=\"dataframe\">\n",
       "  <thead>\n",
       "    <tr style=\"text-align: right;\">\n",
       "      <th></th>\n",
       "      <th>WorkingStatus</th>\n",
       "      <th>household income</th>\n",
       "      <th>Region</th>\n",
       "      <th>change in spending</th>\n",
       "    </tr>\n",
       "  </thead>\n",
       "  <tbody>\n",
       "    <tr>\n",
       "      <th>4999</th>\n",
       "      <td>2</td>\n",
       "      <td>10</td>\n",
       "      <td>8.0</td>\n",
       "      <td>3.0</td>\n",
       "    </tr>\n",
       "    <tr>\n",
       "      <th>5010</th>\n",
       "      <td>8</td>\n",
       "      <td>11</td>\n",
       "      <td>9.0</td>\n",
       "      <td>3.0</td>\n",
       "    </tr>\n",
       "    <tr>\n",
       "      <th>5011</th>\n",
       "      <td>3</td>\n",
       "      <td>10</td>\n",
       "      <td>6.0</td>\n",
       "      <td>3.0</td>\n",
       "    </tr>\n",
       "    <tr>\n",
       "      <th>5018</th>\n",
       "      <td>10</td>\n",
       "      <td>9</td>\n",
       "      <td>8.0</td>\n",
       "      <td>3.0</td>\n",
       "    </tr>\n",
       "    <tr>\n",
       "      <th>5031</th>\n",
       "      <td>5</td>\n",
       "      <td>11</td>\n",
       "      <td>1.0</td>\n",
       "      <td>3.0</td>\n",
       "    </tr>\n",
       "    <tr>\n",
       "      <th>...</th>\n",
       "      <td>...</td>\n",
       "      <td>...</td>\n",
       "      <td>...</td>\n",
       "      <td>...</td>\n",
       "    </tr>\n",
       "    <tr>\n",
       "      <th>16396</th>\n",
       "      <td>1</td>\n",
       "      <td>10</td>\n",
       "      <td>9.0</td>\n",
       "      <td>2.0</td>\n",
       "    </tr>\n",
       "    <tr>\n",
       "      <th>7640</th>\n",
       "      <td>5</td>\n",
       "      <td>15</td>\n",
       "      <td>4.0</td>\n",
       "      <td>2.0</td>\n",
       "    </tr>\n",
       "    <tr>\n",
       "      <th>11787</th>\n",
       "      <td>8</td>\n",
       "      <td>10</td>\n",
       "      <td>7.0</td>\n",
       "      <td>2.0</td>\n",
       "    </tr>\n",
       "    <tr>\n",
       "      <th>13701</th>\n",
       "      <td>1</td>\n",
       "      <td>12</td>\n",
       "      <td>5.0</td>\n",
       "      <td>2.0</td>\n",
       "    </tr>\n",
       "    <tr>\n",
       "      <th>12200</th>\n",
       "      <td>8</td>\n",
       "      <td>13</td>\n",
       "      <td>9.0</td>\n",
       "      <td>2.0</td>\n",
       "    </tr>\n",
       "  </tbody>\n",
       "</table>\n",
       "<p>5664 rows × 4 columns</p>\n",
       "</div>"
      ],
      "text/plain": [
       "       WorkingStatus  household income  Region  change in spending\n",
       "4999               2                10     8.0                 3.0\n",
       "5010               8                11     9.0                 3.0\n",
       "5011               3                10     6.0                 3.0\n",
       "5018              10                 9     8.0                 3.0\n",
       "5031               5                11     1.0                 3.0\n",
       "...              ...               ...     ...                 ...\n",
       "16396              1                10     9.0                 2.0\n",
       "7640               5                15     4.0                 2.0\n",
       "11787              8                10     7.0                 2.0\n",
       "13701              1                12     5.0                 2.0\n",
       "12200              8                13     9.0                 2.0\n",
       "\n",
       "[5664 rows x 4 columns]"
      ]
     },
     "execution_count": 11,
     "metadata": {},
     "output_type": "execute_result"
    }
   ],
   "source": [
    "# Resampling to have a balanced data set by using oversamling meathod\n",
    "\n",
    "\n",
    "#creating two different dataframe of majority and minority class \n",
    "resample_1 = no_null[(no_null['change in spending']==1)] \n",
    "resample_2 = no_null[(no_null['change in spending']==2)] \n",
    "resample_3 = no_null[(no_null['change in spending']==3)] \n",
    "\n",
    "# upsampling minority class\n",
    "unsampled_1 = resample(resample_1, \n",
    "              replace=True,    # sample with replacement\n",
    "              n_samples= 1888, # to match majority class\n",
    "              random_state=42)  # reproducible results\n",
    "\n",
    "unsampled_2 = resample(resample_2, \n",
    "              replace=True,    # sample with replacement\n",
    "              n_samples= 1888, # to match majority class\n",
    "              random_state=42)  # reproducible results\n",
    "\n",
    "# Combine majority class with upsampled minority class\n",
    "balanced_sample = pd.concat([resample_3, unsampled_1, unsampled_2])\n",
    "balanced_sample"
   ]
  },
  {
   "cell_type": "code",
   "execution_count": 12,
   "id": "af78240c",
   "metadata": {},
   "outputs": [
    {
     "data": {
      "text/plain": [
       "<AxesSubplot:>"
      ]
     },
     "execution_count": 12,
     "metadata": {},
     "output_type": "execute_result"
    },
    {
     "data": {
      "image/png": "[encoded data removed]",
      "text/plain": [
       "<Figure size 432x288 with 1 Axes>"
      ]
     },
     "metadata": {
      "needs_background": "light"
     },
     "output_type": "display_data"
    }
   ],
   "source": [
    "# Checking the balance sample again visually with histogram\n",
    "\n",
    "balanced_sample['change in spending'].hist(bins=15)"
   ]
  },
  {
   "cell_type": "code",
   "execution_count": 13,
   "id": "9220b7a8",
   "metadata": {},
   "outputs": [
    {
     "data": {
      "text/html": [
       "<div>\n",
       "<style scoped>\n",
       "    .dataframe tbody tr th:only-of-type {\n",
       "        vertical-align: middle;\n",
       "    }\n",
       "\n",
       "    .dataframe tbody tr th {\n",
       "        vertical-align: top;\n",
       "    }\n",
       "\n",
       "    .dataframe thead th {\n",
       "        text-align: right;\n",
       "    }\n",
       "</style>\n",
       "<table border=\"1\" class=\"dataframe\">\n",
       "  <thead>\n",
       "    <tr style=\"text-align: right;\">\n",
       "      <th></th>\n",
       "      <th>WorkingStatus</th>\n",
       "      <th>household income</th>\n",
       "      <th>Region</th>\n",
       "      <th>change in spending</th>\n",
       "    </tr>\n",
       "  </thead>\n",
       "  <tbody>\n",
       "    <tr>\n",
       "      <th>count</th>\n",
       "      <td>5664.000000</td>\n",
       "      <td>5664.000000</td>\n",
       "      <td>5664.000000</td>\n",
       "      <td>5664.000000</td>\n",
       "    </tr>\n",
       "    <tr>\n",
       "      <th>mean</th>\n",
       "      <td>4.803319</td>\n",
       "      <td>15.259534</td>\n",
       "      <td>6.316384</td>\n",
       "      <td>2.000000</td>\n",
       "    </tr>\n",
       "    <tr>\n",
       "      <th>std</th>\n",
       "      <td>8.861671</td>\n",
       "      <td>21.220879</td>\n",
       "      <td>3.250750</td>\n",
       "      <td>0.816569</td>\n",
       "    </tr>\n",
       "    <tr>\n",
       "      <th>min</th>\n",
       "      <td>1.000000</td>\n",
       "      <td>1.000000</td>\n",
       "      <td>1.000000</td>\n",
       "      <td>1.000000</td>\n",
       "    </tr>\n",
       "    <tr>\n",
       "      <th>25%</th>\n",
       "      <td>1.000000</td>\n",
       "      <td>9.000000</td>\n",
       "      <td>3.000000</td>\n",
       "      <td>1.000000</td>\n",
       "    </tr>\n",
       "    <tr>\n",
       "      <th>50%</th>\n",
       "      <td>2.000000</td>\n",
       "      <td>11.000000</td>\n",
       "      <td>6.000000</td>\n",
       "      <td>2.000000</td>\n",
       "    </tr>\n",
       "    <tr>\n",
       "      <th>75%</th>\n",
       "      <td>8.000000</td>\n",
       "      <td>13.000000</td>\n",
       "      <td>9.000000</td>\n",
       "      <td>3.000000</td>\n",
       "    </tr>\n",
       "    <tr>\n",
       "      <th>max</th>\n",
       "      <td>98.000000</td>\n",
       "      <td>97.000000</td>\n",
       "      <td>12.000000</td>\n",
       "      <td>3.000000</td>\n",
       "    </tr>\n",
       "  </tbody>\n",
       "</table>\n",
       "</div>"
      ],
      "text/plain": [
       "       WorkingStatus  household income       Region  change in spending\n",
       "count    5664.000000       5664.000000  5664.000000         5664.000000\n",
       "mean        4.803319         15.259534     6.316384            2.000000\n",
       "std         8.861671         21.220879     3.250750            0.816569\n",
       "min         1.000000          1.000000     1.000000            1.000000\n",
       "25%         1.000000          9.000000     3.000000            1.000000\n",
       "50%         2.000000         11.000000     6.000000            2.000000\n",
       "75%         8.000000         13.000000     9.000000            3.000000\n",
       "max        98.000000         97.000000    12.000000            3.000000"
      ]
     },
     "execution_count": 13,
     "metadata": {},
     "output_type": "execute_result"
    }
   ],
   "source": [
    "# Summary Statistics of variables\n",
    "\n",
    "summary = balanced_sample.describe()\n",
    "summary"
   ]
  },
  {
   "cell_type": "markdown",
   "id": "54fb3f39",
   "metadata": {},
   "source": [
    "# Multivariate Classification \n"
   ]
  },
  {
   "cell_type": "code",
   "execution_count": 14,
   "id": "1fe41fc0",
   "metadata": {},
   "outputs": [
    {
     "data": {
      "text/plain": [
       "(array([[ 2., 10.,  8.],\n",
       "        [ 8., 11.,  9.],\n",
       "        [ 3., 10.,  6.],\n",
       "        ...,\n",
       "        [ 8., 10.,  7.],\n",
       "        [ 1., 12.,  5.],\n",
       "        [ 8., 13.,  9.]]),\n",
       " array([3., 3., 3., ..., 2., 2., 2.]))"
      ]
     },
     "execution_count": 14,
     "metadata": {},
     "output_type": "execute_result"
    }
   ],
   "source": [
    "# Creating Feature vector and Label Vector\n",
    "\n",
    "x = np.array(balanced_sample.drop(['change in spending'],1))\n",
    "y = np.array(balanced_sample['change in spending'])\n",
    "x, y"
   ]
  },
  {
   "cell_type": "markdown",
   "id": "67842517",
   "metadata": {},
   "source": [
    "# 1) K Nearest Neighbor"
   ]
  },
  {
   "cell_type": "code",
   "execution_count": 15,
   "id": "3c4c8c08",
   "metadata": {},
   "outputs": [
    {
     "data": {
      "text/plain": [
       "<matplotlib.legend.Legend at 0x173dbeb59a0>"
      ]
     },
     "execution_count": 15,
     "metadata": {},
     "output_type": "execute_result"
    },
    {
     "data": {
      "image/png": "[encoded data removed]",
      "text/plain": [
       "<Figure size 432x288 with 1 Axes>"
      ]
     },
     "metadata": {
      "needs_background": "light"
     },
     "output_type": "display_data"
    }
   ],
   "source": [
    "# Creating train and test samples with default 80-20 ratio.\n",
    "\n",
    "x_train,x_test,y_train,y_test = train_test_split(x,y,random_state=0)\n",
    "\n",
    "# KNN\n",
    "\n",
    "# empty sets for recording the results\n",
    "training_accuracy = []\n",
    "test_accuracy = []\n",
    "\n",
    "#trying n_neighbors from 1 to 10\n",
    "neighbors_settings = range(1,11)\n",
    "\n",
    "for n_neighbors in neighbors_settings:\n",
    "    knn = KNeighborsClassifier(n_neighbors = n_neighbors)\n",
    "    knn.fit(x_train,y_train)\n",
    "    training_accuracy.append(knn.score(x_train,y_train))\n",
    "    test_accuracy.append(knn.score(x_test,y_test))\n",
    "    \n",
    "# Plotting the training and test results for 1 to 10 Neighbors\n",
    "plt.plot(neighbors_settings,training_accuracy,label='training accuracy')\n",
    "plt.plot(neighbors_settings,test_accuracy,label='test_accuray')\n",
    "plt.ylabel (\"Accuracy\")\n",
    "plt.xlabel (\"Neighbors\")\n",
    "plt.legend()\n",
    "\n",
    "# Seems the model performs best with 3 neighbors."
   ]
  },
  {
   "cell_type": "code",
   "execution_count": 16,
   "id": "d456b430",
   "metadata": {},
   "outputs": [
    {
     "name": "stdout",
     "output_type": "stream",
     "text": [
      "Accuracy on training set: 0.609\n",
      "Accuracy on test set: 0.561\n"
     ]
    }
   ],
   "source": [
    "# Calculating the Accuracy Score for trainiing and test models with 3 Neighbors\n",
    "\n",
    "x_train, x_test, y_train, y_test = train_test_split(x,y,random_state=0)\n",
    "knn_3 = KNeighborsClassifier(n_neighbors=3, metric = 'minkowski') # metric distancing with manhattan also gives same results\n",
    "knn_3.fit (x_train,y_train)\n",
    "print('Accuracy on training set: {:.3f}'.format(knn_3.score(x_train,y_train)))\n",
    "print('Accuracy on test set: {:.3f}'.format(knn_3.score(x_test,y_test)))"
   ]
  },
  {
   "cell_type": "code",
   "execution_count": 17,
   "id": "9ec51dd1",
   "metadata": {},
   "outputs": [
    {
     "data": {
      "image/png": "[encoded data removed]",
      "text/plain": [
       "<Figure size 432x288 with 2 Axes>"
      ]
     },
     "metadata": {
      "needs_background": "light"
     },
     "output_type": "display_data"
    }
   ],
   "source": [
    "#Confusion matrix\n",
    "\n",
    "y_pred = knn_3.predict(x_test)\n",
    "cnf_matrix = confusion_matrix(y_test, y_pred, labels=knn_3.classes_)\n",
    "disp = ConfusionMatrixDisplay(confusion_matrix=cnf_matrix,display_labels=knn_3.classes_)\n",
    "disp.plot()\n",
    "plt.show()"
   ]
  },
  {
   "cell_type": "code",
   "execution_count": 18,
   "id": "8e3e242b",
   "metadata": {},
   "outputs": [
    {
     "data": {
      "text/plain": [
       "array([0.62467192, 0.51884701, 0.5184244 ])"
      ]
     },
     "execution_count": 18,
     "metadata": {},
     "output_type": "execute_result"
    }
   ],
   "source": [
    "# F1 scorel\n",
    "\n",
    "f1_knn_3 = f1_score(y_test, y_pred, average=None)\n",
    "f1_knn_3"
   ]
  },
  {
   "cell_type": "markdown",
   "id": "f0f360aa",
   "metadata": {},
   "source": [
    "# 2) Gaussian Naive Bayes "
   ]
  },
  {
   "cell_type": "code",
   "execution_count": 19,
   "id": "f9bd06d2",
   "metadata": {},
   "outputs": [
    {
     "data": {
      "text/plain": [
       "0.355225988700565"
      ]
     },
     "execution_count": 19,
     "metadata": {},
     "output_type": "execute_result"
    }
   ],
   "source": [
    "# Gaussian Naive Bayes\n",
    "\n",
    "gnb = GaussianNB()\n",
    "y_pred1 = gnb.fit(x_train, y_train).predict(x_test)\n",
    "\n",
    "accuracy_score(y_test, y_pred1)"
   ]
  },
  {
   "cell_type": "code",
   "execution_count": 20,
   "id": "ab5742f8",
   "metadata": {},
   "outputs": [
    {
     "data": {
      "image/png": "[encoded data removed]",
      "text/plain": [
       "<Figure size 432x288 with 2 Axes>"
      ]
     },
     "metadata": {
      "needs_background": "light"
     },
     "output_type": "display_data"
    }
   ],
   "source": [
    "#Confusion matrix\n",
    "\n",
    "cnf_matrix = confusion_matrix(y_test, y_pred1, labels=gnb.classes_)\n",
    "disp = ConfusionMatrixDisplay(confusion_matrix=cnf_matrix,display_labels=knn_3.classes_)\n",
    "disp.plot()\n",
    "plt.show()"
   ]
  },
  {
   "cell_type": "markdown",
   "id": "7e39b64c",
   "metadata": {},
   "source": [
    "This model is predicting most of the observations as class = 2, thus not performing well and aslo the accuracy score is less than KNN model."
   ]
  },
  {
   "cell_type": "markdown",
   "id": "0aaf2929",
   "metadata": {},
   "source": [
    "# 3) Decission Tree"
   ]
  },
  {
   "cell_type": "code",
   "execution_count": 21,
   "id": "4b029591",
   "metadata": {},
   "outputs": [
    {
     "name": "stdout",
     "output_type": "stream",
     "text": [
      "0.6734934086629002\n",
      "0.5798022598870056\n"
     ]
    }
   ],
   "source": [
    "# Decission Tree \n",
    "\n",
    "dtc = DecisionTreeClassifier(random_state=0)\n",
    "\n",
    "\n",
    "dtc.fit(x_train,y_train)\n",
    "print(dtc.score(x_train,y_train))\n",
    "print(dtc.score(x_test,y_test))\n",
    "\n",
    "# This model performs little better than KNN"
   ]
  },
  {
   "cell_type": "code",
   "execution_count": 22,
   "id": "ebaf6933",
   "metadata": {},
   "outputs": [
    {
     "name": "stdout",
     "output_type": "stream",
     "text": [
      "Feature importance:\n",
      "[0.26065757 0.32015458 0.41918785]\n"
     ]
    },
    {
     "data": {
      "text/plain": [
       "<AxesSubplot:>"
      ]
     },
     "execution_count": 22,
     "metadata": {},
     "output_type": "execute_result"
    },
    {
     "data": {
      "image/png": "[encoded data removed]",
      "text/plain": [
       "<Figure size 432x288 with 1 Axes>"
      ]
     },
     "metadata": {
      "needs_background": "light"
     },
     "output_type": "display_data"
    }
   ],
   "source": [
    "# Feature importance\n",
    "print(\"Feature importance:\\n{}\".format(dtc.feature_importances_))\n",
    "\n",
    "(pd.Series(dtc.feature_importances_)\n",
    "   .nlargest(4)\n",
    "   .plot(kind='barh'))"
   ]
  },
  {
   "cell_type": "code",
   "execution_count": 23,
   "id": "2c706e1f",
   "metadata": {},
   "outputs": [
    {
     "data": {
      "image/png": "[encoded data removed]",
      "text/plain": [
       "<Figure size 432x288 with 2 Axes>"
      ]
     },
     "metadata": {
      "needs_background": "light"
     },
     "output_type": "display_data"
    }
   ],
   "source": [
    "#Confusion matrix\n",
    "\n",
    "y_pred2= dtc.fit(x_train, y_train).predict(x_test)\n",
    "cnf_matrix = confusion_matrix(y_test, y_pred2, labels=dtc.classes_)\n",
    "disp = ConfusionMatrixDisplay(confusion_matrix=cnf_matrix,display_labels=knn_3.classes_)\n",
    "disp.plot()\n",
    "plt.show()"
   ]
  },
  {
   "cell_type": "code",
   "execution_count": 24,
   "id": "ef1f6cb0",
   "metadata": {},
   "outputs": [
    {
     "data": {
      "text/plain": [
       "array([0.67541557, 0.5343189 , 0.49056604])"
      ]
     },
     "execution_count": 24,
     "metadata": {},
     "output_type": "execute_result"
    }
   ],
   "source": [
    "f1_dtc = f1_score(y_test, y_pred2, average=None)\n",
    "f1_dtc"
   ]
  },
  {
   "cell_type": "markdown",
   "id": "e4d91480",
   "metadata": {},
   "source": [
    "After comparing the results from all 3 algorithms, Decission tree seems to be performing the best with 67% accuracy on training sample and 58% accuracy on test sample. Whereas KNN is also predicting similar results with 61% accuracy in training sample and 56% in test sample. Thus for the prediction of A person likely to spend less, more or same based on above disscused factors, Decission tree seems be the most accurate model out of 3. \n",
    "\n",
    "Please note, Due to many missing values and very less corrresponding data, many other relevant features have been missed out and the prediction model could also be made more accurate given a more balanced dataset. "
   ]
  },
  {
   "cell_type": "markdown",
   "id": "b3f3a6ef",
   "metadata": {},
   "source": [
    "# Finalizing the best perforing model"
   ]
  },
  {
   "cell_type": "code",
   "execution_count": 25,
   "id": "adb82ccb",
   "metadata": {},
   "outputs": [],
   "source": [
    "model_pkl = open('predictive_model.pkl', 'wb')\n",
    "pickle.dump(dtc,model_pkl )\n",
    "model_pkl.close()"
   ]
  },
  {
   "cell_type": "markdown",
   "id": "5d20610b",
   "metadata": {},
   "source": [
    "# Making prediction "
   ]
  },
  {
   "cell_type": "markdown",
   "id": "f70a7e39",
   "metadata": {},
   "source": [
    "For a person working part time under 8 hours per week, having income between 9500 and 11499, and living in West Midlands.\n"
   ]
  },
  {
   "cell_type": "code",
   "execution_count": 26,
   "id": "900a3838",
   "metadata": {},
   "outputs": [
    {
     "data": {
      "text/plain": [
       "array([3.])"
      ]
     },
     "execution_count": 26,
     "metadata": {},
     "output_type": "execute_result"
    }
   ],
   "source": [
    "# load the model from disk\n",
    "\n",
    "change_in_spending_model = pickle.load(open('predictive_model.pkl','rb'))\n",
    "change_in_spending_model.predict([[3,5,6]])"
   ]
  },
  {
   "cell_type": "markdown",
   "id": "eb890ae4",
   "metadata": {},
   "source": [
    "This person is likely to decrease his/her expenditure when there is a sudden change in his/her income. "
   ]
  }
 ],
 "metadata": {
  "kernelspec": {
   "display_name": "Python 3",
   "language": "python",
   "name": "python3"
  },
  "language_info": {
   "codemirror_mode": {
    "name": "ipython",
    "version": 3
   },
   "file_extension": ".py",
   "mimetype": "text/x-python",
   "name": "python",
   "nbconvert_exporter": "python",
   "pygments_lexer": "ipython3",
   "version": "3.8.8"
  }
 },
 "nbformat": 4,
 "nbformat_minor": 5
}
